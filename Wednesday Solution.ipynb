{
 "cells": [
  {
   "cell_type": "markdown",
   "metadata": {},
   "source": [
    "# Wednesday Code Challenge"
   ]
  },
  {
   "cell_type": "markdown",
   "metadata": {},
   "source": [
    "Below is starter code, similar to yesterdays code challenge"
   ]
  },
  {
   "cell_type": "code",
   "execution_count": 1,
   "metadata": {},
   "outputs": [
    {
     "data": {
      "text/html": [
       "<div>\n",
       "<style scoped>\n",
       "    .dataframe tbody tr th:only-of-type {\n",
       "        vertical-align: middle;\n",
       "    }\n",
       "\n",
       "    .dataframe tbody tr th {\n",
       "        vertical-align: top;\n",
       "    }\n",
       "\n",
       "    .dataframe thead th {\n",
       "        text-align: right;\n",
       "    }\n",
       "</style>\n",
       "<table border=\"1\" class=\"dataframe\">\n",
       "  <thead>\n",
       "    <tr style=\"text-align: right;\">\n",
       "      <th></th>\n",
       "      <th>contents</th>\n",
       "      <th>filename</th>\n",
       "    </tr>\n",
       "  </thead>\n",
       "  <tbody>\n",
       "    <tr>\n",
       "      <th>Navigation to Small Bodies</th>\n",
       "      <td>See discussions, stats, and author profiles fo...</td>\n",
       "      <td>txt_files/Navigation to Small Bodies.txt</td>\n",
       "    </tr>\n",
       "    <tr>\n",
       "      <th>ASTRONOMICAL ENGINEERING</th>\n",
       "      <td>ASTRONOMICAL ENGINEERING: A STRATEGY FOR MODIF...</td>\n",
       "      <td>txt_files/ASTRONOMICAL ENGINEERING.txt</td>\n",
       "    </tr>\n",
       "    <tr>\n",
       "      <th>Phase II of the Main Belt Asteroid Spectrosopic Survey</th>\n",
       "      <td>Icarus 158, 146�177 (2002) doi:10.1006/icar.20...</td>\n",
       "      <td>txt_files/Phase II of the Main Belt Asteroid S...</td>\n",
       "    </tr>\n",
       "    <tr>\n",
       "      <th>Devlopment of Xenon Hall Thrusters</th>\n",
       "      <td>NASA/CR--2004-213099https://ntrs.nasa.gov/sear...</td>\n",
       "      <td>txt_files/Devlopment of Xenon Hall Thrusters.txt</td>\n",
       "    </tr>\n",
       "    <tr>\n",
       "      <th>Mine planning for Asteroid Ore Bodies</th>\n",
       "      <td>Space Resources Roundtable II (2000)7030.pdfMI...</td>\n",
       "      <td>txt_files/Mine planning for Asteroid Ore Bodie...</td>\n",
       "    </tr>\n",
       "  </tbody>\n",
       "</table>\n",
       "</div>"
      ],
      "text/plain": [
       "                                                                                             contents  \\\n",
       "Navigation to Small Bodies                          See discussions, stats, and author profiles fo...   \n",
       "ASTRONOMICAL ENGINEERING                            ASTRONOMICAL ENGINEERING: A STRATEGY FOR MODIF...   \n",
       "Phase II of the Main Belt Asteroid Spectrosopic...  Icarus 158, 146�177 (2002) doi:10.1006/icar.20...   \n",
       "Devlopment of Xenon Hall Thrusters                  NASA/CR--2004-213099https://ntrs.nasa.gov/sear...   \n",
       "Mine planning for Asteroid Ore Bodies               Space Resources Roundtable II (2000)7030.pdfMI...   \n",
       "\n",
       "                                                                                             filename  \n",
       "Navigation to Small Bodies                                   txt_files/Navigation to Small Bodies.txt  \n",
       "ASTRONOMICAL ENGINEERING                                       txt_files/ASTRONOMICAL ENGINEERING.txt  \n",
       "Phase II of the Main Belt Asteroid Spectrosopic...  txt_files/Phase II of the Main Belt Asteroid S...  \n",
       "Devlopment of Xenon Hall Thrusters                   txt_files/Devlopment of Xenon Hall Thrusters.txt  \n",
       "Mine planning for Asteroid Ore Bodies               txt_files/Mine planning for Asteroid Ore Bodie...  "
      ]
     },
     "execution_count": 1,
     "metadata": {},
     "output_type": "execute_result"
    }
   ],
   "source": [
    "import pandas as pd\n",
    "import json\n",
    "import re\n",
    "import spacy\n",
    "from sklearn.feature_extraction.text import CountVectorizer\n",
    "from sklearn.feature_extraction.text import TfidfVectorizer\n",
    "from sklearn.neighbors import NearestNeighbors\n",
    "\n",
    "\n",
    "nlp = spacy.load(\"en_core_web_lg\")\n",
    "spacy_stopwords = spacy.lang.en.stop_words.STOP_WORDS\n",
    "\n",
    "\n",
    "with open('documents.json') as f:\n",
    "    df = pd.DataFrame(json.load(f)).T.drop(columns = ['emails', 'institutions', 'people', 'places'])\n",
    "\n",
    "df.head()"
   ]
  },
  {
   "cell_type": "markdown",
   "metadata": {},
   "source": [
    "---"
   ]
  },
  {
   "cell_type": "code",
   "execution_count": 2,
   "metadata": {},
   "outputs": [],
   "source": [
    "def tokenize(x):\n",
    "    text = x.lower()\n",
    "    text = re.sub(r'[^a-zA-Z ^0-9]', '', str(text))\n",
    "    return text.split()\n",
    "\n",
    "\n",
    "def spacy_lemmatize(x):\n",
    "    doc = nlp.tokenizer(x)\n",
    "    return [token.lemma_ for token in doc]\n",
    "\n",
    "\n",
    "def remove_stopwords(tokens):\n",
    "    cleaned_tokens = []\n",
    "    for token in tokens:\n",
    "        if token not in spacy_stopwords:\n",
    "            cleaned_tokens.append(token)\n",
    "    return ' '.join(cleaned_tokens)"
   ]
  },
  {
   "cell_type": "code",
   "execution_count": 3,
   "metadata": {},
   "outputs": [],
   "source": [
    "df['tokens'] = df['contents'].apply(lambda x: tokenize(x))\n",
    "df['tokens'] = df['tokens'].apply(lambda x: spacy_lemmatize(' '.join(x)))\n",
    "df['tokens'] = df['tokens'].apply(lambda x: remove_stopwords(x))"
   ]
  },
  {
   "cell_type": "code",
   "execution_count": 4,
   "metadata": {},
   "outputs": [
    {
     "data": {
      "text/plain": [
       "Navigation to Small Bodies                                discussion stats author profile publication ht...\n",
       "ASTRONOMICAL ENGINEERING                                  astronomical engineer strategy modify planetar...\n",
       "Phase II of the Main Belt Asteroid Spectrosopic Survey    icarus 158 146177 2002 doi101006icar20026856ph...\n",
       "Devlopment of Xenon Hall Thrusters                        nasacr2004213099httpsntrsnasagovsearchjspr2004...\n",
       "Mine planning for Asteroid Ore Bodies                     space resource roundtable ii 20007030pdfmine p...\n",
       "Name: tokens, dtype: object"
      ]
     },
     "execution_count": 4,
     "metadata": {},
     "output_type": "execute_result"
    }
   ],
   "source": [
    "df['tokens'].head()"
   ]
  },
  {
   "cell_type": "markdown",
   "metadata": {},
   "source": [
    "---"
   ]
  },
  {
   "cell_type": "markdown",
   "metadata": {},
   "source": [
    "## 1. Create a document-term matrix from the collection of papers using TF-IDF."
   ]
  },
  {
   "cell_type": "code",
   "execution_count": null,
   "metadata": {},
   "outputs": [],
   "source": [
    "tfidf = TfidfVectorizer(stop_words='english', max_features = 5000)\n",
    "\n",
    "dtm = tfidf.fit_transform(df['tokens'])\n",
    "\n",
    "docs = pd.DataFrame(dtm.todense(), columns = tfidf.get_feature_names())\n",
    "\n",
    "docs.head()"
   ]
  },
  {
   "cell_type": "code",
   "execution_count": 6,
   "metadata": {},
   "outputs": [],
   "source": [
    "docs.index = df.index"
   ]
  },
  {
   "cell_type": "code",
   "execution_count": null,
   "metadata": {},
   "outputs": [],
   "source": [
    "docs.head()"
   ]
  },
  {
   "cell_type": "markdown",
   "metadata": {},
   "source": [
    "---"
   ]
  },
  {
   "cell_type": "markdown",
   "metadata": {},
   "source": [
    "## 2. Explain what TF-IDF is."
   ]
  },
  {
   "cell_type": "markdown",
   "metadata": {},
   "source": [
    "Term frequency, stated simply, represents how often a term appears in a document divided by total number of terms in the document.\n",
    "Inverse document frequency is the log of the total number of documents divided by documents with a selected term. TDF-IDF is the product of these two huristics."
   ]
  },
  {
   "cell_type": "markdown",
   "metadata": {},
   "source": [
    "### Excerpt From: Delip Rao and Brian McMahan. “Natural Language Processing with PyTorch.”"
   ]
  },
  {
   "cell_type": "markdown",
   "metadata": {},
   "source": [
    "Consider a collection of patent documents. You would expect most of them to contain words like claim, system, method, procedure, and so on, often repeated multiple times. The TF representation weights words proportionally to their frequency. However, common words such as “claim” do not add anything to our understanding of a specific patent. Conversely, if a rare word (such as “tetrafluoroethylene”) occurs less frequently but is quite likely to be indicative of the nature of the patent document, we would want to give it a larger weight in our representation. The Inverse-Document-Frequency (IDF) is a heuristic to do exactly that.\n",
    "\n",
    "The IDF representation penalizes common tokens and rewards rare tokens in the vector representation. The IDF(w) of a token w is defined with respect to a corpus as:\n",
    "\n",
    "IDF(w) = log(N/n_w)\n",
    "\n",
    "where nw is the number of documents containing the word w and N is the total number of documents. The TF-IDF score is simply the product TF(w) * IDF(w). First, notice how if there is a very common word that occurs in all documents (i.e., nw = N), IDF(w) is 0 and the TF-IDF score is 0, thereby completely penalizing that term. Second, if a term occurs very rarely, perhaps in only one document, the IDF will be the maximum possible value, log N. Example 1-2 shows how to generate a TF-IDF representation of a list of English sentences using scikit-learn.\n",
    "In deep learning, it is rare to see inputs encoded using heuristic representations like TF-IDF because the goal is to learn a representation. Often, we start with a one-hot encoding using integer indices and a special “embedding lookup” layer to construct inputs to the neural network. In later chapters, we present several examples of doing this.\n"
   ]
  },
  {
   "cell_type": "markdown",
   "metadata": {},
   "source": [
    "---"
   ]
  },
  {
   "cell_type": "markdown",
   "metadata": {},
   "source": [
    "## 3. Using named entity extraction, extract all the people, geographic locations, and academic/industry institutions  from the contents of each paper. \n",
    "\n",
    "### Store each of these values in a new column. \n",
    "\n",
    "#### Hint: Check out the Spacy documentation for information regarding named entity extraction\n",
    "\n",
    "This will be far from perfect, and could take a few mins to run."
   ]
  },
  {
   "cell_type": "code",
   "execution_count": 8,
   "metadata": {},
   "outputs": [],
   "source": [
    "def extract_people(contents):\n",
    "    doc = nlp(contents)\n",
    "    text = [entity.text for entity in doc.ents]\n",
    "    labels = [entity.label_ for entity in doc.ents]\n",
    "    \n",
    "    df = pd.DataFrame({'text': text, 'labels':labels})\n",
    "    return df.where(df.labels == 'PERSON').dropna().text.tolist()\n",
    "\n",
    "\n",
    "def extract_places(contents):\n",
    "    doc = nlp(contents)\n",
    "    text = [entity.text for entity in doc.ents]\n",
    "    labels = [entity.label_ for entity in doc.ents]\n",
    "    \n",
    "    df = pd.DataFrame({'text': text, 'labels':labels})\n",
    "    return df.where(df.labels == 'GPE').dropna().text.tolist()\n",
    "\n",
    "\n",
    "def extract_institutions(contents):\n",
    "    doc = nlp(contents)\n",
    "    text = [entity.text for entity in doc.ents]\n",
    "    labels = [entity.label_ for entity in doc.ents]\n",
    "    \n",
    "    df = pd.DataFrame({'text': text, 'labels':labels})\n",
    "    return df.where(df.labels == 'ORG').dropna().text.tolist()"
   ]
  },
  {
   "cell_type": "code",
   "execution_count": 9,
   "metadata": {},
   "outputs": [],
   "source": [
    "df['people'] = df['tokens'].apply(lambda x : extract_people(x))\n",
    "df['places'] = df['tokens'].apply(lambda x : extract_places(x))\n",
    "df['institutions'] = df['tokens'].apply(lambda x : extract_institutions(x))"
   ]
  },
  {
   "cell_type": "code",
   "execution_count": 10,
   "metadata": {},
   "outputs": [
    {
     "data": {
      "text/html": [
       "<div>\n",
       "<style scoped>\n",
       "    .dataframe tbody tr th:only-of-type {\n",
       "        vertical-align: middle;\n",
       "    }\n",
       "\n",
       "    .dataframe tbody tr th {\n",
       "        vertical-align: top;\n",
       "    }\n",
       "\n",
       "    .dataframe thead th {\n",
       "        text-align: right;\n",
       "    }\n",
       "</style>\n",
       "<table border=\"1\" class=\"dataframe\">\n",
       "  <thead>\n",
       "    <tr style=\"text-align: right;\">\n",
       "      <th></th>\n",
       "      <th>contents</th>\n",
       "      <th>filename</th>\n",
       "      <th>tokens</th>\n",
       "      <th>people</th>\n",
       "      <th>places</th>\n",
       "      <th>institutions</th>\n",
       "    </tr>\n",
       "  </thead>\n",
       "  <tbody>\n",
       "    <tr>\n",
       "      <th>Navigation to Small Bodies</th>\n",
       "      <td>See discussions, stats, and author profiles fo...</td>\n",
       "      <td>txt_files/Navigation to Small Bodies.txt</td>\n",
       "      <td>discussion stats author profile publication ht...</td>\n",
       "      <td>[jekan thangavelautham, filenavigating smallbo...</td>\n",
       "      <td>[arizona, az, arizona, az 85287, arizona, az, ...</td>\n",
       "      <td>[satellitesarticle ieee aerospace, nallapu ari...</td>\n",
       "    </tr>\n",
       "    <tr>\n",
       "      <th>ASTRONOMICAL ENGINEERING</th>\n",
       "      <td>ASTRONOMICAL ENGINEERING: A STRATEGY FOR MODIF...</td>\n",
       "      <td>txt_files/ASTRONOMICAL ENGINEERING.txt</td>\n",
       "      <td>astronomical engineer strategy modify planetar...</td>\n",
       "      <td>[anson, sridhar tremaine, weissman, gravityass...</td>\n",
       "      <td>[alalthough earth, moon, santa cruz, new york ...</td>\n",
       "      <td>[orbitsdg korycansky codep dept earth science ...</td>\n",
       "    </tr>\n",
       "    <tr>\n",
       "      <th>Phase II of the Main Belt Asteroid Spectrosopic Survey</th>\n",
       "      <td>Icarus 158, 146�177 (2002) doi:10.1006/icar.20...</td>\n",
       "      <td>txt_files/Phase II of the Main Belt Asteroid S...</td>\n",
       "      <td>icarus 158 146177 2002 doi101006icar20026856ph...</td>\n",
       "      <td>[icarus 158, surveya featurebased taxonomysche...</td>\n",
       "      <td>[ctype, smassi, vesta zone, sclass, sclass, gc...</td>\n",
       "      <td>[science massachusetts institute, cambridge ma...</td>\n",
       "    </tr>\n",
       "    <tr>\n",
       "      <th>Devlopment of Xenon Hall Thrusters</th>\n",
       "      <td>NASA/CR--2004-213099https://ntrs.nasa.gov/sear...</td>\n",
       "      <td>txt_files/Devlopment of Xenon Hall Thrusters.txt</td>\n",
       "      <td>nasacr2004213099httpsntrsnasagovsearchjspr2004...</td>\n",
       "      <td>[nasasee, lawjune, peerreviewed, nasasee, glen...</td>\n",
       "      <td>[facilities122621, wien, michigan, coilsn^unit...</td>\n",
       "      <td>[xenon hall, hofer university, michigan ann ar...</td>\n",
       "    </tr>\n",
       "    <tr>\n",
       "      <th>Mine planning for Asteroid Ore Bodies</th>\n",
       "      <td>Space Resources Roundtable II (2000)7030.pdfMI...</td>\n",
       "      <td>txt_files/Mine planning for Asteroid Ore Bodie...</td>\n",
       "      <td>space resource roundtable ii 20007030pdfmine p...</td>\n",
       "      <td>[welldesigned tetherrestraintplatform, oleary ...</td>\n",
       "      <td>[toronto, earth object, earth object]</td>\n",
       "      <td>[cohesivenessasteroid, fragmentationrestraint ...</td>\n",
       "    </tr>\n",
       "  </tbody>\n",
       "</table>\n",
       "</div>"
      ],
      "text/plain": [
       "                                                                                             contents  \\\n",
       "Navigation to Small Bodies                          See discussions, stats, and author profiles fo...   \n",
       "ASTRONOMICAL ENGINEERING                            ASTRONOMICAL ENGINEERING: A STRATEGY FOR MODIF...   \n",
       "Phase II of the Main Belt Asteroid Spectrosopic...  Icarus 158, 146�177 (2002) doi:10.1006/icar.20...   \n",
       "Devlopment of Xenon Hall Thrusters                  NASA/CR--2004-213099https://ntrs.nasa.gov/sear...   \n",
       "Mine planning for Asteroid Ore Bodies               Space Resources Roundtable II (2000)7030.pdfMI...   \n",
       "\n",
       "                                                                                             filename  \\\n",
       "Navigation to Small Bodies                                   txt_files/Navigation to Small Bodies.txt   \n",
       "ASTRONOMICAL ENGINEERING                                       txt_files/ASTRONOMICAL ENGINEERING.txt   \n",
       "Phase II of the Main Belt Asteroid Spectrosopic...  txt_files/Phase II of the Main Belt Asteroid S...   \n",
       "Devlopment of Xenon Hall Thrusters                   txt_files/Devlopment of Xenon Hall Thrusters.txt   \n",
       "Mine planning for Asteroid Ore Bodies               txt_files/Mine planning for Asteroid Ore Bodie...   \n",
       "\n",
       "                                                                                               tokens  \\\n",
       "Navigation to Small Bodies                          discussion stats author profile publication ht...   \n",
       "ASTRONOMICAL ENGINEERING                            astronomical engineer strategy modify planetar...   \n",
       "Phase II of the Main Belt Asteroid Spectrosopic...  icarus 158 146177 2002 doi101006icar20026856ph...   \n",
       "Devlopment of Xenon Hall Thrusters                  nasacr2004213099httpsntrsnasagovsearchjspr2004...   \n",
       "Mine planning for Asteroid Ore Bodies               space resource roundtable ii 20007030pdfmine p...   \n",
       "\n",
       "                                                                                               people  \\\n",
       "Navigation to Small Bodies                          [jekan thangavelautham, filenavigating smallbo...   \n",
       "ASTRONOMICAL ENGINEERING                            [anson, sridhar tremaine, weissman, gravityass...   \n",
       "Phase II of the Main Belt Asteroid Spectrosopic...  [icarus 158, surveya featurebased taxonomysche...   \n",
       "Devlopment of Xenon Hall Thrusters                  [nasasee, lawjune, peerreviewed, nasasee, glen...   \n",
       "Mine planning for Asteroid Ore Bodies               [welldesigned tetherrestraintplatform, oleary ...   \n",
       "\n",
       "                                                                                               places  \\\n",
       "Navigation to Small Bodies                          [arizona, az, arizona, az 85287, arizona, az, ...   \n",
       "ASTRONOMICAL ENGINEERING                            [alalthough earth, moon, santa cruz, new york ...   \n",
       "Phase II of the Main Belt Asteroid Spectrosopic...  [ctype, smassi, vesta zone, sclass, sclass, gc...   \n",
       "Devlopment of Xenon Hall Thrusters                  [facilities122621, wien, michigan, coilsn^unit...   \n",
       "Mine planning for Asteroid Ore Bodies                           [toronto, earth object, earth object]   \n",
       "\n",
       "                                                                                         institutions  \n",
       "Navigation to Small Bodies                          [satellitesarticle ieee aerospace, nallapu ari...  \n",
       "ASTRONOMICAL ENGINEERING                            [orbitsdg korycansky codep dept earth science ...  \n",
       "Phase II of the Main Belt Asteroid Spectrosopic...  [science massachusetts institute, cambridge ma...  \n",
       "Devlopment of Xenon Hall Thrusters                  [xenon hall, hofer university, michigan ann ar...  \n",
       "Mine planning for Asteroid Ore Bodies               [cohesivenessasteroid, fragmentationrestraint ...  "
      ]
     },
     "execution_count": 10,
     "metadata": {},
     "output_type": "execute_result"
    }
   ],
   "source": [
    "df.head()"
   ]
  },
  {
   "cell_type": "markdown",
   "metadata": {},
   "source": [
    "---"
   ]
  }
 ],
 "metadata": {
  "kernelspec": {
   "display_name": "Python 3",
   "language": "python",
   "name": "python3"
  },
  "language_info": {
   "codemirror_mode": {
    "name": "ipython",
    "version": 3
   },
   "file_extension": ".py",
   "mimetype": "text/x-python",
   "name": "python",
   "nbconvert_exporter": "python",
   "pygments_lexer": "ipython3",
   "version": "3.7.0"
  }
 },
 "nbformat": 4,
 "nbformat_minor": 2
}
